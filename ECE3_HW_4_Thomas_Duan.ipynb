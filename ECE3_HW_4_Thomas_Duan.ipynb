{
  "nbformat": 4,
  "nbformat_minor": 0,
  "metadata": {
    "colab": {
      "name": "ECE3_HW_4_Thomas Duan.ipynb",
      "provenance": [],
      "collapsed_sections": []
    },
    "kernelspec": {
      "display_name": "Python 3 (ipykernel)",
      "language": "python",
      "name": "python3"
    },
    "language_info": {
      "codemirror_mode": {
        "name": "ipython",
        "version": 3
      },
      "file_extension": ".py",
      "mimetype": "text/x-python",
      "name": "python",
      "nbconvert_exporter": "python",
      "pygments_lexer": "ipython3",
      "version": "3.7.10"
    }
  },
  "cells": [
    {
      "cell_type": "markdown",
      "metadata": {
        "id": "XJcXzC1IYiDX"
      },
      "source": [
        "# ECE 3 : Homework 4"
      ]
    },
    {
      "cell_type": "markdown",
      "metadata": {
        "id": "TUU2mXLwYe29"
      },
      "source": [
        "## Instructions\n",
        "\n",
        "To get started, you should go through the following steps.\n",
        "- Rename this jupyter notebook by adding your name: e.g. `ECE3_HW4_<your-name>.ipynb`.\n",
        "- Complete all the exercises by directly editing your notebook.\n",
        "- Make sure that the coding portions run without errors.\n",
        "- You can also upload this file to Google Colab and edit it there instead of using Jupyter Notebook locally. Doing this helped resolve some issues with importing libraries in HW1."
      ]
    },
    {
      "cell_type": "markdown",
      "metadata": {
        "id": "1c6fx-ypk8dx"
      },
      "source": [
        "## Problem 1 (25 points)"
      ]
    },
    {
      "cell_type": "markdown",
      "metadata": {
        "id": "KsnVcMwLlAac"
      },
      "source": [
        "a) Let $I_2$ denote the 2 by 2 identity matrix. What should be the shape of $x$ in order for $I_2x$ to be computable? **(4 points)**\n",
        "\n",
        "b) $I_2$ contains $2$ column vectors $e_1,e_2$. Let $x$ be a $2$-vector $\\begin{bmatrix}\n",
        "x_1\\\\\n",
        "x_2\n",
        "\\end{bmatrix}$. Rewrite $x$ in the form of a linear combination of $e_1,e_2$. **(4 points)**\n",
        "\n",
        "c) Part b tells us that $I_2$ is a basis for $\\mathbb{R}^2$ because any $2$-vector can be written as a linear combination of the column vectors of $I_2$. However, $I_2$ is not the only basis for $\\mathbb{R}^2$. Prove that $B = \\begin{bmatrix}\n",
        "1&1\\\\\n",
        "0&1\n",
        "\\end{bmatrix}$ is a basis for $\\mathbb{R}^2$ by showing that the columns of $B$ are linearly independent. **(8 points)**\n",
        "\n",
        "d) Normally, the $2$-vector we write down uses basis $I_2$. For example, $b = \\begin{bmatrix}3\\\\2\\end{bmatrix} = 3\\begin{bmatrix}1\\\\0\\end{bmatrix} + 2\\begin{bmatrix}0\\\\1\\end{bmatrix}$ uses basis $I_2$. Now express vector $b$ using basis $B$. In other words, you are trying to find scalar $z_1,z_2$ such that $z_1\\begin{bmatrix}1\\\\0\\end{bmatrix} + z_2\\begin{bmatrix}1\\\\1\\end{bmatrix} = \\begin{bmatrix}3\\\\2\\end{bmatrix}$, where vector $z = \\begin{bmatrix}z_1\\\\z_2\\end{bmatrix}$ is how you would write $b$ using basis $B$. **(9 points)**\n"
      ]
    },
    {
      "cell_type": "markdown",
      "metadata": {
        "id": "MuY27CjRmc8Z"
      },
      "source": [
        "**Write your answers here**"
      ]
    },
    {
      "cell_type": "markdown",
      "metadata": {
        "id": "332_vIhdjqwe"
      },
      "source": [
        "a) 2 by 1.\n",
        "\n",
        "b) $x=x_1e_1+x_2e_1$\n",
        "\n",
        "c) Set $β_1B_1+β_2B_2=0$, then:\n",
        "$$\n",
        "\\left\\{ \n",
        "\\begin{matrix}\n",
        "β_1+β_2=0 \\\\\n",
        "β_2=0 \\\\\n",
        "\\end{matrix}\n",
        "\\right.\n",
        "$$\n",
        "$\\therefore β_1=β_2=0$\n",
        "\n",
        "$\\therefore$ The columns of $B$ are linearly independent.\n",
        "\n",
        "$\\therefore$ $B$ is a basis for $\\mathbb{R}^2$.\n",
        "\n",
        "d)Set $b = \\begin{bmatrix}3\\\\2\\end{bmatrix} = b_1\\begin{bmatrix}1\\\\0\\end{bmatrix} + b_2\\begin{bmatrix}1\\\\1\\end{bmatrix}$.\n",
        "$$\n",
        "\\left\\{ \n",
        "\\begin{matrix}\n",
        "b_1+b_2=3 \\\\\n",
        "b_2=2 \\\\\n",
        "\\end{matrix}\n",
        "\\right.\n",
        "$$\n",
        "\n",
        "$$\n",
        "\\therefore\n",
        "\\left\\{ \n",
        "\\begin{matrix}\n",
        "b_1=1 \\\\\n",
        "b_2=2 \\\\\n",
        "\\end{matrix}\n",
        "\\right.\n",
        "$$\n",
        "\n",
        "$\\therefore b = 2\\begin{bmatrix}1\\\\0\\end{bmatrix} + \\begin{bmatrix}1\\\\1\\end{bmatrix}$."
      ]
    },
    {
      "cell_type": "markdown",
      "metadata": {
        "id": "Waw5ctpumjm1"
      },
      "source": [
        "## Problem 2 (21 points)"
      ]
    },
    {
      "cell_type": "markdown",
      "metadata": {
        "id": "GuQsht8EwlXC"
      },
      "source": [
        "### Part 1: Matrices and Change of Basis\n",
        "\n",
        "Consider the starting basis vectors: \n",
        "\n",
        "$e_1=\\begin{bmatrix}\n",
        "1\\\\\n",
        "0\\\\\n",
        "0\n",
        "\\end{bmatrix}$, $e_2=\\begin{bmatrix}\n",
        "0\\\\\n",
        "1\\\\\n",
        "0\n",
        "\\end{bmatrix}$, and $e_3=\\begin{bmatrix}\n",
        "0\\\\\n",
        "0\\\\\n",
        "1\n",
        "\\end{bmatrix}$. \n",
        "\n",
        "Now consider the new set of basis vectors: \n",
        "\n",
        "$a=\\begin{bmatrix}\n",
        "\\frac{\\sqrt{3}}{3}\\\\\n",
        "\\frac{\\sqrt{3}}{3}\\\\\n",
        "\\frac{\\sqrt{3}}{3}\n",
        "\\end{bmatrix}$, $b=\\begin{bmatrix}\n",
        "\\frac{\\sqrt{3}}{3}\\\\\n",
        "\\frac{-\\sqrt{3}}{3}\\\\\n",
        "\\frac{\\sqrt{3}}{3}\n",
        "\\end{bmatrix}$, and $c=\\begin{bmatrix}\n",
        "\\frac{\\sqrt{3}}{3}\\\\\n",
        "\\frac{\\sqrt{3}}{3}\\\\\n",
        "\\frac{-\\sqrt{3}}{3}\n",
        "\\end{bmatrix}$.\n",
        "\n",
        "\n",
        "\n",
        "a) Prove that $a$, $b$, and $c$ are linearly independent. **(4 points)**\n",
        "\n",
        "b) Find the coordinate transform matrix\n",
        "\n",
        "$\\textbf{A}=\\begin{bmatrix}\n",
        "a_{11} & a_{12} & a_{13}\\\\\n",
        "a_{21} & a_{22} & a_{23}\\\\\n",
        "a_{31} & a_{32} & a_{33}\n",
        "\\end{bmatrix}$\n",
        "\n",
        "such that $a = \\textbf{A}e_1$, $b = \\textbf{A}e_2$, and $c = \\textbf{A}e_3$. **(5 points)**"
      ]
    },
    {
      "cell_type": "markdown",
      "metadata": {
        "id": "F0MCtDqoBCnl"
      },
      "source": [
        "### Part 2: Functions with Vector Input and Output\n",
        "\n",
        "Consider the function $\\textbf{f}: \\mathbb{R}^4 \\rightarrow \\mathbb{R}^2$ such that\n",
        "\n",
        "$\\textbf{f}(\\textbf{x}) = \\textbf{f}\\left(\\begin{bmatrix}\n",
        "x_1\\\\\n",
        "x_2\\\\\n",
        "x_3\\\\\n",
        "x_4\n",
        "\\end{bmatrix}\\right) = \\begin{bmatrix}\n",
        "x_1 + x_2\\\\\n",
        "x_3 - x_4\n",
        "\\end{bmatrix} = \\textbf{A}\\textbf{x}$ \n",
        "\n",
        "for some $\\textbf{A}$ matrix, $\\textbf{x} = \\begin{bmatrix}\n",
        "x_1\\\\\n",
        "x_2\\\\\n",
        "x_3\\\\\n",
        "x_4\n",
        "\\end{bmatrix} \\in \\mathbb{R}^4$, and $\\textbf{f}(\\textbf{x})\\in\\mathbb{R}^2$\n",
        "\n",
        "d) What must the dimensions of $\\textbf{A}$ be such that the proper mapping $\\textbf{f}: \\mathbb{R}^4 \\rightarrow \\mathbb{R}^2$ is computed? Specify numbers of rows and numbers of columns. **(4 points)**\n",
        "\n",
        "e) Compute the matrix $\\textbf{A}$. **(4 points)**\n",
        "\n",
        "f) Is the function $\\textbf{f}: \\mathbb{R}^4 \\rightarrow \\mathbb{R}^2$ linear? Is it affine? Explain why for both. **(4 points)**"
      ]
    },
    {
      "cell_type": "markdown",
      "metadata": {
        "id": "UxC4sTHW8A_3"
      },
      "source": [
        "**Write your answers to each part here.**"
      ]
    },
    {
      "cell_type": "markdown",
      "metadata": {
        "id": "jCmf5Hqmjs6z"
      },
      "source": [
        "a) Set $p_1a+p_2b+p_3c=0$\n",
        "$$\n",
        "\\left\\{ \n",
        "\\begin{matrix}\n",
        " \\frac{\\sqrt{3}}{3}p_1+\\frac{\\sqrt{3}}{3}p_2+\\frac{\\sqrt{3}}{3}p_3= 0 \\\\\n",
        " \\frac{\\sqrt{3}}{3}p_1-\\frac{\\sqrt{3}}{3}p_2+\\frac{\\sqrt{3}}{3}p_3= 0 \\\\\n",
        " \\frac{\\sqrt{3}}{3}p_1+\\frac{\\sqrt{3}}{3}p_2-\\frac{\\sqrt{3}}{3}p_3= 0 \\\\\n",
        "\\end{matrix}\n",
        "\\right.\n",
        "$$\n",
        "$\\therefore p_1=p_2=p_3=0$\n",
        "\n",
        "$\\therefore a,b,c$ are linearly independent\n",
        "\n",
        "b) $\\textbf{A}=\\begin{bmatrix}\n",
        "\\frac{\\sqrt{3}}{3} & \\frac{\\sqrt{3}}{3} & \\frac{\\sqrt{3}}{3}\\\\\n",
        "\\frac{\\sqrt{3}}{3} & -\\frac{\\sqrt{3}}{3} & \\frac{\\sqrt{3}}{3}\\\\\n",
        "\\frac{\\sqrt{3}}{3} & \\frac{\\sqrt{3}}{3} & -\\frac{\\sqrt{3}}{3}\n",
        "\\end{bmatrix}$\n",
        "\n",
        "d) $\\textbf{A}$ should have 2 rows and 4 columns.\n",
        "\n",
        "e)"
      ]
    },
    {
      "cell_type": "markdown",
      "metadata": {
        "id": "ynzHUrQgMybK"
      },
      "source": [
        "## Problem 3 (4 points)\n",
        "\n",
        "Complete the following code to get the desired output as shown below:\n",
        "\n",
        "![plot](https://raw.githubusercontent.com/monsij/ToDo_App/master/image.png)"
      ]
    },
    {
      "cell_type": "code",
      "metadata": {
        "id": "FrWw7mZmNQ5Z",
        "colab": {
          "base_uri": "https://localhost:8080/",
          "height": 248
        },
        "outputId": "f6e503ce-ab25-4b81-8157-c89d7139fbc6"
      },
      "source": [
        "# Replace ... with your code\n",
        "\n",
        "import matplotlib.pyplot as plt\n",
        "import numpy as np\n",
        "\n",
        "n_rays = 50\n",
        "x = np.array([0, 1])\n",
        "for i in range(n_rays):\n",
        "    theta = 2 * i * np.pi / n_rays\n",
        "    Rtheta = np.sin(theta)\n",
        "    y = np.cos(theta)\n",
        "    plt.arrow(0, 0, Rtheta, y, color=f\"C{i}\")\n",
        "plt.axis('equal')\n",
        "plt.xlim(-2,2)\n",
        "plt.ylim(-2,2)\n",
        "plt.axis('off');"
      ],
      "execution_count": 16,
      "outputs": [
        {
          "output_type": "display_data",
          "data": {
            "image/png": "[encoded data removed]",
            "text/plain": [
              "<Figure size 432x288 with 1 Axes>"
            ]
          },
          "metadata": {
            "needs_background": "light"
          }
        }
      ]
    }
  ]
}